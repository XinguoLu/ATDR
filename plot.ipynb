{
 "cells": [
  {
   "cell_type": "code",
   "execution_count": null,
   "id": "04e7fb26",
   "metadata": {},
   "outputs": [],
   "source": [
    "%matplotlib inline\n",
    "from sklearn.metrics import roc_curve, auc,precision_recall_curve\n",
    "import matplotlib.pyplot as plt\n",
    "import pandas as pd\n",
    "import numpy as np\n",
    "plt.rc('font', family='Times New Roman')\n",
    "plt.figure(dpi=200)"
   ]
  },
  {
   "cell_type": "code",
   "execution_count": null,
   "id": "ed3d145d",
   "metadata": {},
   "outputs": [],
   "source": [
    "\n",
    "### IMPORTANT ###\n",
    "# File1 =  True binary labels.\n",
    "# File2 =  Predicted scores.\n",
    "    \n",
    "File1 = './result/ATDR_ground_truth.txt'\n",
    "\n",
    "File2 = './result/ATDR_predicted.txt'"
   ]
  },
  {
   "cell_type": "code",
   "execution_count": null,
   "id": "9c0dc469",
   "metadata": {},
   "outputs": [],
   "source": [
    "#read files\n",
    "data = pd.read_table(File1,sep = ',', header = None)\n",
    "data2 = pd.read_table(File2,sep=',', header = None)\n",
    "\n",
    "#Data is converted to numpy array format\n",
    "y_true = np.array(data)\n",
    "y_true=y_true.flatten()\n",
    "\n",
    "y_score = np.array(data2)\n",
    "y_score=y_score.flatten()"
   ]
  },
  {
   "cell_type": "code",
   "execution_count": null,
   "id": "2b5675c5",
   "metadata": {},
   "outputs": [],
   "source": [
    "# Compute Receiver operating characteristic (ROC).\n",
    "fpr, tpr, thersholds = roc_curve(y_true, y_score, pos_label=1)\n",
    "\n",
    "# Compute precision-recall pairs for different probability thresholds.\n",
    "precision, recall, thresholds = precision_recall_curve(y_true, y_score, pos_label=1)"
   ]
  },
  {
   "cell_type": "code",
   "execution_count": null,
   "id": "52ec27b3",
   "metadata": {},
   "outputs": [],
   "source": [
    "#Compute Area Under the Curve (AUC) using the trapezoidal rule.\n",
    "roc_auc = auc(fpr, tpr)\n",
    "print(\"ATDR AUC:\",roc_auc)\n",
    "\n",
    "#Compute the area under the precision-recall curve\n",
    "aupr=auc(recall,precision)\n",
    "print(\"ATDR AUPR:\",aupr)"
   ]
  },
  {
   "cell_type": "code",
   "execution_count": null,
   "id": "fb48d0f2",
   "metadata": {},
   "outputs": [],
   "source": [
    "plt.plot(fpr, tpr, '-', label='ATDR = {0:.2f}'.format(roc_auc),color='#ea7c22')\n",
    "plt.xlim([-0.05, 1.05])\n",
    "plt.ylim([-0.05, 1.05])\n",
    "\n",
    "plt.xlabel('False Positive Rate',fontsize=14)\n",
    "plt.ylabel('True Positive Rate',fontsize=14)\n",
    "plt.title('AUROC Curve',fontsize=14)\n",
    "\n",
    "plt.xticks(fontsize=14)\n",
    "plt.yticks(fontsize=14)\n",
    "\n",
    "plt.legend(loc=\"lower right\",fontsize=14)\n",
    "plt.show()"
   ]
  },
  {
   "cell_type": "code",
   "execution_count": null,
   "id": "95de720a",
   "metadata": {},
   "outputs": [],
   "source": [
    "plt.plot(recall, precision, '-', label='ATDR = %0.2f' % aupr ,color='#ea7c22')\n",
    "\n",
    "\n",
    "plt.xlabel('Recall',fontsize=14)\n",
    "plt.ylabel('Precision',fontsize=14)\n",
    "plt.title('AUPR Curve',fontsize=14)\n",
    "\n",
    "\n",
    "plt.xticks(fontsize=14)\n",
    "plt.yticks(fontsize=14)\n",
    "\n",
    "plt.legend(loc='lower left',fontsize=14)\n",
    "plt.show()"
   ]
  }
 ],
 "metadata": {
  "kernelspec": {
   "display_name": "Python 3 (ipykernel)",
   "language": "python",
   "name": "python3"
  },
  "language_info": {
   "codemirror_mode": {
    "name": "ipython",
    "version": 3
   },
   "file_extension": ".py",
   "mimetype": "text/x-python",
   "name": "python",
   "nbconvert_exporter": "python",
   "pygments_lexer": "ipython3",
   "version": "3.9.12"
  }
 },
 "nbformat": 4,
 "nbformat_minor": 5
}
